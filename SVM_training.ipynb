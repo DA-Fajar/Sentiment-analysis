{
 "cells": [
  {
   "cell_type": "code",
   "execution_count": 7,
   "id": "58e3e1f6",
   "metadata": {},
   "outputs": [
    {
     "name": "stdout",
     "output_type": "stream",
     "text": [
      "Already in the correct directory.\n"
     ]
    }
   ],
   "source": [
    "import pandas as pd\n",
    "from sklearn import svm\n",
    "from sklearn.metrics import classification_report\n",
    "from sklearn.feature_extraction.text import TfidfVectorizer\n",
    "import os\n",
    "import time\n",
    "\n",
    "project_root = os.path.abspath(\"C:/Users/dafaj/Documents/twitch_chatbot\")\n",
    "if os.getcwd() != project_root:\n",
    "    os.chdir(project_root)\n",
    "    print(f\"Changed to: {os.getcwd()}\")\n",
    "else:\n",
    "    print(\"Already in the correct directory.\")"
   ]
  },
  {
   "cell_type": "code",
   "execution_count": 14,
   "id": "45543fae",
   "metadata": {},
   "outputs": [
    {
     "data": {
      "text/html": [
       "<div>\n",
       "<style scoped>\n",
       "    .dataframe tbody tr th:only-of-type {\n",
       "        vertical-align: middle;\n",
       "    }\n",
       "\n",
       "    .dataframe tbody tr th {\n",
       "        vertical-align: top;\n",
       "    }\n",
       "\n",
       "    .dataframe thead th {\n",
       "        text-align: right;\n",
       "    }\n",
       "</style>\n",
       "<table border=\"1\" class=\"dataframe\">\n",
       "  <thead>\n",
       "    <tr style=\"text-align: right;\">\n",
       "      <th></th>\n",
       "      <th>Content</th>\n",
       "      <th>Label</th>\n",
       "    </tr>\n",
       "  </thead>\n",
       "  <tbody>\n",
       "    <tr>\n",
       "      <th>129</th>\n",
       "      <td>some critics , including siskel &amp; ebert , are ...</td>\n",
       "      <td>pos</td>\n",
       "    </tr>\n",
       "    <tr>\n",
       "      <th>560</th>\n",
       "      <td>a fully loaded entertainment review - website ...</td>\n",
       "      <td>pos</td>\n",
       "    </tr>\n",
       "    <tr>\n",
       "      <th>124</th>\n",
       "      <td>buffalo ? 66 is a very rarely known movie that...</td>\n",
       "      <td>pos</td>\n",
       "    </tr>\n",
       "    <tr>\n",
       "      <th>1220</th>\n",
       "      <td>tri-star ; rated r ( language , sexual situati...</td>\n",
       "      <td>neg</td>\n",
       "    </tr>\n",
       "    <tr>\n",
       "      <th>1248</th>\n",
       "      <td>you don't need to have seen the original \" spe...</td>\n",
       "      <td>neg</td>\n",
       "    </tr>\n",
       "  </tbody>\n",
       "</table>\n",
       "</div>"
      ],
      "text/plain": [
       "                                                Content Label\n",
       "129   some critics , including siskel & ebert , are ...   pos\n",
       "560   a fully loaded entertainment review - website ...   pos\n",
       "124   buffalo ? 66 is a very rarely known movie that...   pos\n",
       "1220  tri-star ; rated r ( language , sexual situati...   neg\n",
       "1248  you don't need to have seen the original \" spe...   neg"
      ]
     },
     "execution_count": 14,
     "metadata": {},
     "output_type": "execute_result"
    }
   ],
   "source": [
    "# train Data\n",
    "trainData = pd.read_csv(\"https://raw.githubusercontent.com/Vasistareddy/sentiment_analysis/master/data/train.csv\")\n",
    "# test Data\n",
    "testData = pd.read_csv(\"https://raw.githubusercontent.com/Vasistareddy/sentiment_analysis/master/data/test.csv\")\n",
    "\n",
    "# Feature Engineering - using Term Frequency - Inverse Document Frequency\n",
    "# quantifies the importance of a word \n",
    "vectorizer = TfidfVectorizer(min_df=0.5,max_df=0.8,sublinear_tf=True,use_idf=True)\n",
    "train_vec = vectorizer.fit_transform(trainData['Content'])\n",
    "test_vec = vectorizer.transform(testData['Content'])\n",
    "\n",
    "trainData.sample(frac=1).head(5)"
   ]
  },
  {
   "cell_type": "code",
   "execution_count": 15,
   "id": "480d220c",
   "metadata": {},
   "outputs": [
    {
     "name": "stdout",
     "output_type": "stream",
     "text": [
      "training time: 1.4187114238739014, Prediction time: 0.16466784477233887\n",
      "Positive: {'precision': 0.7126436781609196, 'recall': 0.62, 'f1-score': 0.6631016042780749, 'support': 100.0}\n",
      " Negative: {'precision': 0.6637168141592921, 'recall': 0.75, 'f1-score': 0.704225352112676, 'support': 100.0}\n"
     ]
    }
   ],
   "source": [
    "#trianing the Linear SVM\n",
    "classifier_linear = svm.SVC(kernel='linear')\n",
    "t0 = time.time()\n",
    "classifier_linear.fit(train_vec,trainData['Label'])\n",
    "t1 = time.time()\n",
    "prediciton_linear = classifier_linear.predict(test_vec)\n",
    "t2 = time.time()\n",
    "time_linear_train = t1-t0\n",
    "time_linear_predict = t2-t1\n",
    "\n",
    "#results\n",
    "print(f'training time: {time_linear_train}, Prediction time: {time_linear_predict}')\n",
    "\n",
    "report = classification_report(testData['Label'],prediciton_linear,output_dict=True)\n",
    "\n",
    "print(f'Positive: {report['pos']}\\n Negative: {report['neg']}')"
   ]
  },
  {
   "cell_type": "code",
   "execution_count": 16,
   "id": "a5339352",
   "metadata": {},
   "outputs": [
    {
     "name": "stdout",
     "output_type": "stream",
     "text": [
      "['neg']\n"
     ]
    }
   ],
   "source": [
    "# testing the model\n",
    "review = \"\"\"Do not purchase this product. My cell phone blast when I switched the charger\"\"\"\n",
    "review_vector = vectorizer.transform([review])\n",
    "print(classifier_linear.predict(review_vector))"
   ]
  },
  {
   "cell_type": "code",
   "execution_count": 17,
   "id": "00bc53a3",
   "metadata": {},
   "outputs": [],
   "source": [
    "# dump the model\n",
    "import pickle\n",
    "pickle.dump(vectorizer, open('vectorizer.sav','wb'))\n",
    "pickle.dump(classifier_linear, open('classifier.sav','wb'))"
   ]
  }
 ],
 "metadata": {
  "kernelspec": {
   "display_name": "base",
   "language": "python",
   "name": "python3"
  },
  "language_info": {
   "codemirror_mode": {
    "name": "ipython",
    "version": 3
   },
   "file_extension": ".py",
   "mimetype": "text/x-python",
   "name": "python",
   "nbconvert_exporter": "python",
   "pygments_lexer": "ipython3",
   "version": "3.12.3"
  }
 },
 "nbformat": 4,
 "nbformat_minor": 5
}
